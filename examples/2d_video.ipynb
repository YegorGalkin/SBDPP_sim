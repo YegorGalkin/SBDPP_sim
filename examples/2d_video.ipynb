{
 "cells": [
  {
   "cell_type": "code",
   "execution_count": 15,
   "metadata": {},
   "outputs": [],
   "source": [
    "import numpy as np\n",
    "from scipy.stats import rayleigh\n",
    "import sys\n",
    "import os\n",
    "import pandas as pd\n",
    "import numpy as np\n",
    "from matplotlib import animation\n",
    "import matplotlib.pyplot as plt\n",
    "from matplotlib.animation import FuncAnimation\n",
    "import matplotlib"
   ]
  },
  {
   "cell_type": "markdown",
   "metadata": {},
   "source": [
    "Смотрим на то, где находится корень проекта."
   ]
  },
  {
   "cell_type": "code",
   "execution_count": 16,
   "metadata": {},
   "outputs": [
    {
     "data": {
      "text/plain": [
       "'/home/michael/SBDPP_sim/examples'"
      ]
     },
     "execution_count": 16,
     "metadata": {},
     "output_type": "execute_result"
    }
   ],
   "source": [
    "os.getcwd()"
   ]
  },
  {
   "cell_type": "markdown",
   "metadata": {},
   "source": [
    "Указываем корень проекта."
   ]
  },
  {
   "cell_type": "code",
   "execution_count": 17,
   "metadata": {},
   "outputs": [],
   "source": [
    "sys.path.append(\"/home/michael/SBDPP_sim\") # ваш путь к папке с проектом\n",
    "import simulation"
   ]
  },
  {
   "cell_type": "code",
   "execution_count": null,
   "metadata": {
    "collapsed": true
   },
   "outputs": [
    {
     "name": "stdout",
     "output_type": "stream",
     "text": [
      "Birth rate: 4000.0\n",
      "Death rate: 1604.9713441548117\n"
     ]
    }
   ],
   "source": [
    "L = 50.0\n",
    "M = 4\n",
    "\n",
    "r_values = np.arange(0, 5.01, 0.01)\n",
    "\n",
    "# 2D standard normal distribution radial density\n",
    "# The radial distribution for a 2D normal is proportional to Rayleigh distribution with scale 1 (standard normal case)\n",
    "def density(r):\n",
    "    return (1 / (2 * np.pi)) * np.exp(-0.5 * r**2)\n",
    "\n",
    "radial_density_values = density(r_values)\n",
    "q_values = np.arange(0, 1.0, 0.001)\n",
    "inverse_radial_values = rayleigh.ppf(q_values, scale=1.0)\n",
    "g2 = simulation.PyGrid2(\n",
    "    M=M,\n",
    "    areaLen=[L, L],\n",
    "    cellCount=[L, L],\n",
    "    isPeriodic=True,\n",
    "    birthRates=[1]*M,\n",
    "    deathRates=[0]*M,\n",
    "    ddMatrix=[0.1, 0.3, 0.3, 0.3,\n",
    "              0.3, 0.1, 0.3, 0.3,\n",
    "              0.3, 0.3, 0.1, 0.3,\n",
    "              0.3, 0.3, 0.3, 0.1,],\n",
    "    birthX=[q_values.tolist()]*M,\n",
    "    birthY=[inverse_radial_values.tolist()]*M,\n",
    "    deathX_=[ [ r_values.tolist()]*M]*M,\n",
    "    deathY_=[ [ radial_density_values.tolist() ]*M ]*M,\n",
    "    cutoffs=[5.0]*M*M,\n",
    "    seed=42,\n",
    "    rtimeLimit=7200.0\n",
    ")\n",
    "\n",
    "\n",
    "# Parameters\n",
    "N = 1000  # Number of [x, y] pairs per group\n",
    "\n",
    "# Generate the list\n",
    "coordinates = []\n",
    "for _ in range(M):\n",
    "    group = [[np.random.uniform(0, L), np.random.uniform(0, L)] for _ in range(N)]\n",
    "    coordinates.append(group)\n",
    "\n",
    "g2.placePopulation(coordinates)\n",
    "\n",
    "print(\"Birth rate:\", g2.total_birth_rate)\n",
    "print(\"Death rate:\", g2.total_death_rate)"
   ]
  },
  {
   "cell_type": "code",
   "execution_count": 19,
   "metadata": {
    "collapsed": false
   },
   "outputs": [
    {
     "name": "stdout",
     "output_type": "stream",
     "text": [
      "0 6300\n",
      "1 8499\n",
      "2 9641\n",
      "3 10602\n",
      "4 11231\n",
      "5 11677\n",
      "6 12166\n",
      "7 12823\n",
      "8 13713\n",
      "9 14289\n",
      "10 15297\n",
      "11 16340\n",
      "12 17128\n",
      "13 17794\n",
      "14 18567\n",
      "15 18940\n",
      "16 19228\n",
      "17 19640\n",
      "18 20094\n",
      "19 20501\n",
      "20 20592\n",
      "21 20630\n",
      "22 20724\n",
      "23 20800\n",
      "24 20836\n",
      "25 20941\n",
      "26 20985\n",
      "27 20852\n",
      "28 21042\n",
      "29 21333\n"
     ]
    }
   ],
   "source": [
    "data = list()\n",
    "\n",
    "for t in range(30):\n",
    "    for c in range(g2.get_num_cells()):\n",
    "        for n in range(M):\n",
    "            coords = g2.get_cell_coords(c,n)\n",
    "            for i in range(len(coords)):\n",
    "                x,y = coords[i]\n",
    "                data.append([t,x,y,n])\n",
    "    g2.run_for(1)\n",
    "    print(t, g2.total_population)"
   ]
  },
  {
   "cell_type": "code",
   "execution_count": 20,
   "metadata": {
    "collapsed": false
   },
   "outputs": [
    {
     "data": {
      "text/html": [
       "<div>\n",
       "<style scoped>\n",
       "    .dataframe tbody tr th:only-of-type {\n",
       "        vertical-align: middle;\n",
       "    }\n",
       "\n",
       "    .dataframe tbody tr th {\n",
       "        vertical-align: top;\n",
       "    }\n",
       "\n",
       "    .dataframe thead th {\n",
       "        text-align: right;\n",
       "    }\n",
       "</style>\n",
       "<table border=\"1\" class=\"dataframe\">\n",
       "  <thead>\n",
       "    <tr style=\"text-align: right;\">\n",
       "      <th></th>\n",
       "      <th>x</th>\n",
       "      <th>y</th>\n",
       "      <th>s</th>\n",
       "    </tr>\n",
       "    <tr>\n",
       "      <th>time</th>\n",
       "      <th></th>\n",
       "      <th></th>\n",
       "      <th></th>\n",
       "    </tr>\n",
       "  </thead>\n",
       "  <tbody>\n",
       "    <tr>\n",
       "      <th>0</th>\n",
       "      <td>0.201075</td>\n",
       "      <td>0.360439</td>\n",
       "      <td>3</td>\n",
       "    </tr>\n",
       "    <tr>\n",
       "      <th>0</th>\n",
       "      <td>1.666550</td>\n",
       "      <td>0.515205</td>\n",
       "      <td>1</td>\n",
       "    </tr>\n",
       "    <tr>\n",
       "      <th>0</th>\n",
       "      <td>1.865654</td>\n",
       "      <td>0.631132</td>\n",
       "      <td>2</td>\n",
       "    </tr>\n",
       "    <tr>\n",
       "      <th>0</th>\n",
       "      <td>2.658599</td>\n",
       "      <td>0.255019</td>\n",
       "      <td>2</td>\n",
       "    </tr>\n",
       "    <tr>\n",
       "      <th>0</th>\n",
       "      <td>2.127452</td>\n",
       "      <td>0.859779</td>\n",
       "      <td>2</td>\n",
       "    </tr>\n",
       "    <tr>\n",
       "      <th>...</th>\n",
       "      <td>...</td>\n",
       "      <td>...</td>\n",
       "      <td>...</td>\n",
       "    </tr>\n",
       "    <tr>\n",
       "      <th>29</th>\n",
       "      <td>49.246210</td>\n",
       "      <td>49.075874</td>\n",
       "      <td>2</td>\n",
       "    </tr>\n",
       "    <tr>\n",
       "      <th>29</th>\n",
       "      <td>49.319927</td>\n",
       "      <td>49.688617</td>\n",
       "      <td>2</td>\n",
       "    </tr>\n",
       "    <tr>\n",
       "      <th>29</th>\n",
       "      <td>49.423249</td>\n",
       "      <td>49.478240</td>\n",
       "      <td>2</td>\n",
       "    </tr>\n",
       "    <tr>\n",
       "      <th>29</th>\n",
       "      <td>49.282824</td>\n",
       "      <td>49.288914</td>\n",
       "      <td>2</td>\n",
       "    </tr>\n",
       "    <tr>\n",
       "      <th>29</th>\n",
       "      <td>49.044282</td>\n",
       "      <td>49.147640</td>\n",
       "      <td>2</td>\n",
       "    </tr>\n",
       "  </tbody>\n",
       "</table>\n",
       "<p>485872 rows × 3 columns</p>\n",
       "</div>"
      ],
      "text/plain": [
       "              x          y  s\n",
       "time                         \n",
       "0      0.201075   0.360439  3\n",
       "0      1.666550   0.515205  1\n",
       "0      1.865654   0.631132  2\n",
       "0      2.658599   0.255019  2\n",
       "0      2.127452   0.859779  2\n",
       "...         ...        ... ..\n",
       "29    49.246210  49.075874  2\n",
       "29    49.319927  49.688617  2\n",
       "29    49.423249  49.478240  2\n",
       "29    49.282824  49.288914  2\n",
       "29    49.044282  49.147640  2\n",
       "\n",
       "[485872 rows x 3 columns]"
      ]
     },
     "metadata": {},
     "output_type": "display_data"
    }
   ],
   "source": [
    "df = pd.DataFrame(columns = ['time', 'x', 'y', 's'], data = data)\n",
    "display(df.set_index('time'))"
   ]
  },
  {
   "cell_type": "code",
   "execution_count": 21,
   "metadata": {
    "collapsed": false
   },
   "outputs": [],
   "source": [
    "movie_writer = animation.FFMpegWriter(fps=2, codec='h264', extra_args=['-vcodec', 'libx264'])"
   ]
  },
  {
   "cell_type": "code",
   "execution_count": 22,
   "metadata": {
    "collapsed": false
   },
   "outputs": [
    {
     "name": "stdout",
     "output_type": "stream",
     "text": [
      "Animation saved as points_animation.mp4\n"
     ]
    }
   ],
   "source": [
    "\n",
    "matplotlib.rcParams['animation.ffmpeg_path'] = '/usr/bin/ffmpeg' # путь к ffmpeg\n",
    "\n",
    "df = df.sort_values('time')\n",
    "\n",
    "output_file = \"points_animation.mp4\"\n",
    "\n",
    "fig, ax = plt.subplots(figsize=(8, 8))\n",
    "\n",
    "ax.set_xlim(0, L)\n",
    "ax.set_ylim(0, L)\n",
    "ax.set_xlabel('x')\n",
    "ax.set_ylabel('y')\n",
    "sc = ax.scatter([], [], c=[], cmap='plasma', s=20, alpha=0.6)\n",
    "\n",
    "def update(frame):\n",
    "    current_df = df[df['time'] == frame]\n",
    "    sc.set_offsets(current_df[['x', 'y']].values)\n",
    "    sc.set_array(current_df['s'].values)\n",
    "    ax.set_title(f\"Time: {frame}\")\n",
    "    return sc,\n",
    "\n",
    "ani = FuncAnimation(fig, update, frames=df['time'].nunique(), blit=True)\n",
    "\n",
    "ani.save(output_file, writer=movie_writer)\n",
    "print(f\"Animation saved as {output_file}\")\n",
    "plt.close(fig)"
   ]
  }
 ],
 "metadata": {
  "kernelspec": {
   "display_name": "venv",
   "language": "python",
   "name": "python3"
  },
  "language_info": {
   "codemirror_mode": {
    "name": "ipython",
    "version": 3
   },
   "file_extension": ".py",
   "mimetype": "text/x-python",
   "name": "python",
   "nbconvert_exporter": "python",
   "pygments_lexer": "ipython3",
   "version": "3.13.2"
  }
 },
 "nbformat": 4,
 "nbformat_minor": 0
}
