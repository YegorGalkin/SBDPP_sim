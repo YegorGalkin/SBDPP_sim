{
 "cells": [
  {
   "cell_type": "code",
   "execution_count": 40,
   "metadata": {},
   "outputs": [],
   "source": [
    "import numpy as np\n",
    "from scipy.stats import rayleigh\n",
    "import sys\n",
    "import os"
   ]
  },
  {
   "cell_type": "markdown",
   "metadata": {},
   "source": [
    "Смотрим на то, где находится корень проекта."
   ]
  },
  {
   "cell_type": "code",
   "execution_count": 41,
   "metadata": {},
   "outputs": [
    {
     "data": {
      "text/plain": [
       "'/home/michael/SBDPP_sim/examples'"
      ]
     },
     "execution_count": 41,
     "metadata": {},
     "output_type": "execute_result"
    }
   ],
   "source": [
    "os.getcwd()"
   ]
  },
  {
   "cell_type": "markdown",
   "metadata": {},
   "source": [
    "Указываем корень проекта."
   ]
  },
  {
   "cell_type": "code",
   "execution_count": 42,
   "metadata": {},
   "outputs": [],
   "source": [
    "sys.path.append(\"/home/michael/SBDPP_sim\") # ваш путь к папке с проектом\n",
    "import simulation"
   ]
  },
  {
   "cell_type": "code",
   "execution_count": 43,
   "metadata": {
    "collapsed": false
   },
   "outputs": [
    {
     "name": "stdout",
     "output_type": "stream",
     "text": [
      "Birth rate: 2.0\n",
      "Death rate: 0.011710109162477299\n"
     ]
    }
   ],
   "source": [
    "r_values = np.arange(0, 5.01, 0.01)\n",
    "\n",
    "# 2D standard normal distribution radial density\n",
    "# The radial distribution for a 2D normal is proportional to Rayleigh distribution with scale 1 (standard normal case)\n",
    "def density(r):\n",
    "    return (1 / (2 * np.pi)) * np.exp(-0.5 * r**2)\n",
    "\n",
    "radial_density_values = density(r_values)\n",
    "q_values = np.arange(0, 1.0, 0.001)\n",
    "inverse_radial_values = rayleigh.ppf(q_values, scale=1.0)\n",
    "g2 = simulation.PyGrid2(\n",
    "    M = 1,\n",
    "    areaLen = [25.0, 25.0],\n",
    "    cellCount = [25, 25],\n",
    "    isPeriodic = False,\n",
    "    birthRates = [1],\n",
    "    deathRates = [0],\n",
    "    ddMatrix = [0.1],                 # 1x1 for single species\n",
    "    birthX = [q_values.tolist()],     # example\n",
    "    birthY = [inverse_radial_values.tolist()],\n",
    "    deathX_ = [[r_values.tolist()]],\n",
    "    deathY_ = [[radial_density_values.tolist()]],\n",
    "    cutoffs = [5.0],\n",
    "    seed = 42,\n",
    "    rtimeLimit = 1000.0\n",
    ")\n",
    "\n",
    "initCoords = [[[1.0, 2.0], [2.0, 3.0]]]\n",
    "g2.placePopulation(initCoords)\n",
    "\n",
    "print(\"Birth rate:\", g2.total_birth_rate)\n",
    "print(\"Death rate:\", g2.total_death_rate)"
   ]
  },
  {
   "cell_type": "code",
   "execution_count": 44,
   "metadata": {
    "collapsed": false
   },
   "outputs": [],
   "source": [
    "for i in range(10000):\n",
    "    g2.make_event()"
   ]
  },
  {
   "cell_type": "code",
   "execution_count": 45,
   "metadata": {
    "collapsed": false
   },
   "outputs": [
    {
     "name": "stdout",
     "output_type": "stream",
     "text": [
      "Birth rate: 1612.0\n",
      "Death rate: 1169.9625217311664\n",
      "Total population: 1612\n",
      "time: 13.262230812662818  event_count: 10000\n"
     ]
    }
   ],
   "source": [
    "print(\"Birth rate:\", g2.total_birth_rate)\n",
    "print(\"Death rate:\", g2.total_death_rate)\n",
    "print(\"Total population:\", g2.total_population)\n",
    "print(\"time:\", g2.time, \" event_count:\", g2.event_count)"
   ]
  }
 ],
 "metadata": {
  "kernelspec": {
   "display_name": "venv",
   "language": "python",
   "name": "python3"
  },
  "language_info": {
   "codemirror_mode": {
    "name": "ipython",
    "version": 3
   },
   "file_extension": ".py",
   "mimetype": "text/x-python",
   "name": "python",
   "nbconvert_exporter": "python",
   "pygments_lexer": "ipython3",
   "version": "3.13.2"
  }
 },
 "nbformat": 4,
 "nbformat_minor": 0
}
